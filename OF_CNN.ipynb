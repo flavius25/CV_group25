{
  "nbformat": 4,
  "nbformat_minor": 0,
  "metadata": {
    "colab": {
      "name": "OF_CNN.ipynb",
      "provenance": [],
      "collapsed_sections": []
    },
    "kernelspec": {
      "name": "python3",
      "display_name": "Python 3"
    },
    "language_info": {
      "name": "python"
    }
  },
  "cells": [
    {
      "cell_type": "code",
      "source": [
        "!pip install kora -q\n",
        "from kora import drive\n",
        "drive.link_nbs()"
      ],
      "metadata": {
        "id": "ug1kwnN-hATp"
      },
      "execution_count": null,
      "outputs": []
    },
    {
      "cell_type": "code",
      "source": [
        "import utils.ipynb"
      ],
      "metadata": {
        "id": "HQyH_52mhFxJ"
      },
      "execution_count": null,
      "outputs": []
    },
    {
      "cell_type": "code",
      "source": [
        "import tensorflow as tf\n",
        "from sklearn.model_selection import train_test_split\n",
        "from sklearn.metrics import confusion_matrix, ConfusionMatrixDisplay\n",
        "import seaborn as sns\n",
        "import matplotlib.pyplot as plt\n",
        "from matplotlib.pyplot import figure\n",
        "from keras.applications.efficientnet import EfficientNetB0\n",
        "from keras.models import Model, Sequential\n",
        "from keras.layers import TimeDistributed, Input, MaxPooling3D, LSTM, Dense, Conv3D, Conv2D, BatchNormalization, Flatten, Dropout, Convolution2D, Activation, MaxPooling2D, GlobalAveragePooling2D\n",
        "from keras import losses"
      ],
      "metadata": {
        "id": "etQezN1jgrMV"
      },
      "execution_count": null,
      "outputs": []
    },
    {
      "cell_type": "code",
      "source": [
        "\"\"\" Global variables\"\"\"\n",
        "NUM_CLASSES = 4\n",
        "EPOCHS = 30\n",
        "INSTACK = 16\n",
        "IMG_SIZE = (224, 224)"
      ],
      "metadata": {
        "id": "vyS4ZucjkA4t"
      },
      "execution_count": null,
      "outputs": []
    },
    {
      "cell_type": "code",
      "source": [
        "\"\"\" Data importing and processing \"\"\""
      ],
      "metadata": {
        "id": "VYqVhhi_hLh-"
      },
      "execution_count": null,
      "outputs": []
    },
    {
      "cell_type": "code",
      "execution_count": null,
      "metadata": {
        "colab": {
          "base_uri": "https://localhost:8080/"
        },
        "id": "eGRFQdn6gp-L",
        "outputId": "d3684b0f-e26a-4acc-bb8f-d28401864a0d"
      },
      "outputs": [
        {
          "output_type": "stream",
          "name": "stdout",
          "text": [
            "Model: \"sequential_5\"\n",
            "_________________________________________________________________\n",
            " Layer (type)                Output Shape              Param #   \n",
            "=================================================================\n",
            " time_distributed_68 (TimeDi  (None, 16, 112, 112, 32)  4736     \n",
            " stributed)                                                      \n",
            "                                                                 \n",
            " time_distributed_69 (TimeDi  (None, 16, 110, 110, 32)  9248     \n",
            " stributed)                                                      \n",
            "                                                                 \n",
            " time_distributed_70 (TimeDi  (None, 16, 55, 55, 32)   0         \n",
            " stributed)                                                      \n",
            "                                                                 \n",
            " time_distributed_71 (TimeDi  (None, 16, 55, 55, 64)   18496     \n",
            " stributed)                                                      \n",
            "                                                                 \n",
            " time_distributed_72 (TimeDi  (None, 16, 55, 55, 64)   36928     \n",
            " stributed)                                                      \n",
            "                                                                 \n",
            " time_distributed_73 (TimeDi  (None, 16, 27, 27, 64)   0         \n",
            " stributed)                                                      \n",
            "                                                                 \n",
            " time_distributed_74 (TimeDi  (None, 16, 27, 27, 128)  73856     \n",
            " stributed)                                                      \n",
            "                                                                 \n",
            " time_distributed_75 (TimeDi  (None, 16, 27, 27, 128)  147584    \n",
            " stributed)                                                      \n",
            "                                                                 \n",
            " time_distributed_76 (TimeDi  (None, 16, 13, 13, 128)  0         \n",
            " stributed)                                                      \n",
            "                                                                 \n",
            " time_distributed_77 (TimeDi  (None, 16, 13, 13, 256)  295168    \n",
            " stributed)                                                      \n",
            "                                                                 \n",
            " time_distributed_78 (TimeDi  (None, 16, 13, 13, 256)  590080    \n",
            " stributed)                                                      \n",
            "                                                                 \n",
            " time_distributed_79 (TimeDi  (None, 16, 6, 6, 256)    0         \n",
            " stributed)                                                      \n",
            "                                                                 \n",
            " time_distributed_80 (TimeDi  (None, 16, 6, 6, 512)    1180160   \n",
            " stributed)                                                      \n",
            "                                                                 \n",
            " time_distributed_81 (TimeDi  (None, 16, 6, 6, 512)    2359808   \n",
            " stributed)                                                      \n",
            "                                                                 \n",
            " time_distributed_82 (TimeDi  (None, 16, 3, 3, 512)    0         \n",
            " stributed)                                                      \n",
            "                                                                 \n",
            " time_distributed_83 (TimeDi  (None, 16, 4608)         0         \n",
            " stributed)                                                      \n",
            "                                                                 \n",
            " dropout_6 (Dropout)         (None, 16, 4608)          0         \n",
            "                                                                 \n",
            " lstm_5 (LSTM)               (None, 256)               4981760   \n",
            "                                                                 \n",
            " dense_5 (Dense)             (None, 256)               65792     \n",
            "                                                                 \n",
            " dropout_7 (Dropout)         (None, 256)               0         \n",
            "                                                                 \n",
            " pred (Dense)                (None, 4)                 1028      \n",
            "                                                                 \n",
            "=================================================================\n",
            "Total params: 9,764,644\n",
            "Trainable params: 9,764,644\n",
            "Non-trainable params: 0\n",
            "_________________________________________________________________\n"
          ]
        }
      ],
      "source": [
        "\"\"\" Optical flow model \"\"\"\n",
        "\n",
        "def build_model(inshape=(16, 224, 224, 3), NUM_CLASSES=4):\n",
        "  model = Sequential()\n",
        "  model.add(TimeDistributed(Conv2D(32, (7, 7), strides=(2, 2), activation='relu', padding='same'), input_shape=(16, 224, 224, 3)))\n",
        "  model.add(TimeDistributed(Conv2D(32, (3,3), kernel_initializer=\"he_normal\", activation='relu')))\n",
        "  model.add(TimeDistributed(MaxPooling2D((2, 2), strides=(2, 2))))\n",
        "  \n",
        "  model.add(TimeDistributed(Conv2D(64, (3,3), padding='same', activation='relu')))\n",
        "  model.add(TimeDistributed(Conv2D(64, (3,3), padding='same', activation='relu')))\n",
        "  model.add(TimeDistributed(MaxPooling2D((2, 2), strides=(2, 2))))\n",
        "  \n",
        "  model.add(TimeDistributed(Conv2D(128, (3,3), padding='same', activation='relu')))\n",
        "  model.add(TimeDistributed(Conv2D(128, (3,3), padding='same', activation='relu')))\n",
        "  model.add(TimeDistributed(MaxPooling2D((2, 2), strides=(2, 2))))\n",
        "  \n",
        "  model.add(TimeDistributed(Conv2D(256, (3,3), padding='same', activation='relu')))\n",
        "  model.add(TimeDistributed(Conv2D(256, (3,3), padding='same', activation='relu')))\n",
        "  model.add(TimeDistributed(MaxPooling2D((2, 2), strides=(2, 2))))\n",
        "\n",
        "  model.add(TimeDistributed(Conv2D(512, (3,3), padding='same', activation='relu')))\n",
        "  model.add(TimeDistributed(Conv2D(512, (3,3), padding='same', activation='relu')))\n",
        "  model.add(TimeDistributed(MaxPooling2D((2, 2), strides=(2, 2))))\n",
        "  \n",
        "  model.add(TimeDistributed(Flatten()))\n",
        "  \n",
        "  model.add(Dropout(0.5))\n",
        "  model.add(LSTM(256, return_sequences=False, dropout=0.5))\n",
        "  model.add(Dense(256, activation='relu'))\n",
        "  model.add(Dropout(0.5))\n",
        "  model.add(Dense(NUM_CLASSES, activation='softmax', name='pred'))\n",
        "\n",
        "  model.summary()\n",
        "  return model"
      ]
    },
    {
      "cell_type": "code",
      "source": [
        "\"\"\" Instantiating and compiling model \"\"\"\n",
        "of_model = build_model((INSTACK, IMG_SIZE[0], IMG_SIZE[1], 3), NUM_CLASSES)\n",
        "of_model.compile(optimizer='Adam', loss=\"categorical_crossentropy\", metrics=[\"accuracy\"])\n",
        "\n"
      ],
      "metadata": {
        "id": "LZbpsPnKo3rW"
      },
      "execution_count": null,
      "outputs": []
    }
  ]
}