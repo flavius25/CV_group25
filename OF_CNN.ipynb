{
  "cells": [
    {
      "cell_type": "code",
      "execution_count": 8,
      "metadata": {
        "id": "ug1kwnN-hATp"
      },
      "outputs": [],
      "source": [
        "!pip install kora -q\n",
        "from kora import drive\n",
        "drive.link_nbs()"
      ]
    },
    {
      "cell_type": "code",
      "execution_count": 9,
      "metadata": {
        "id": "HQyH_52mhFxJ"
      },
      "outputs": [],
      "source": [
        "import utils"
      ]
    },
    {
      "cell_type": "code",
      "execution_count": 10,
      "metadata": {
        "id": "etQezN1jgrMV"
      },
      "outputs": [],
      "source": [
        "import tensorflow as tf\n",
        "from sklearn.model_selection import train_test_split\n",
        "from sklearn.metrics import confusion_matrix, ConfusionMatrixDisplay\n",
        "import seaborn as sns\n",
        "import matplotlib.pyplot as plt\n",
        "from matplotlib.pyplot import figure\n",
        "from keras.applications.efficientnet import EfficientNetB0\n",
        "from keras.models import Model, Sequential\n",
        "from keras.layers import TimeDistributed, Input, MaxPooling3D, LSTM, Dense, Conv3D, Conv2D, BatchNormalization, Flatten, Dropout, Convolution2D, Activation, MaxPooling2D, GlobalAveragePooling2D\n",
        "from keras import losses"
      ]
    },
    {
      "cell_type": "code",
      "execution_count": 11,
      "metadata": {
        "id": "vyS4ZucjkA4t"
      },
      "outputs": [],
      "source": [
        "\"\"\" Global variables\"\"\"\n",
        "NUM_CLASSES = 4\n",
        "EPOCHS = 10\n",
        "INSTACK = 16\n",
        "IMG_SIZE = (224, 224)\n",
        "LEN_TRAIN = 85\n"
      ]
    },
    {
      "cell_type": "code",
      "execution_count": 12,
      "metadata": {
        "colab": {
          "base_uri": "https://localhost:8080/"
        },
        "id": "VYqVhhi_hLh-",
        "outputId": "8cbd82ee-3c16-464c-dc9b-e1ebc9f51e5e"
      },
      "outputs": [
        {
          "output_type": "stream",
          "name": "stdout",
          "text": [
            "StopIteration exception: \n",
            "length data_files:  85\n",
            "len data_list :  85\n",
            "StopIteration exception: \n",
            "length data_files:  100\n",
            "len data_list :  98\n",
            "StopIteration exception: \n",
            "length data_files:  15\n",
            "len data_list :  15\n",
            "Success!\n"
          ]
        }
      ],
      "source": [
        "\"\"\" Load train generators \"\"\"\n",
        "\n",
        "train_gen, val_gen, test_gen = utils.loadOFdatagens()"
      ]
    },
    {
      "cell_type": "code",
      "execution_count": 15,
      "metadata": {
        "id": "x2UBC871lA4Q"
      },
      "outputs": [],
      "source": [
        "from keras.layers.pooling import GlobalAveragePooling3D\n",
        "def build_OF_model(input_shape= (INSTACK,IMG_SIZE[0],IMG_SIZE[1],3),num_classes=NUM_CLASSES):\n",
        "  \n",
        "    model = Sequential()\n",
        "\n",
        "    model.add(Conv3D(32, kernel_size=3, input_shape=input_shape, padding='same', activation='relu'))\n",
        "    model.add(MaxPooling3D(pool_size=2))\n",
        "    model.add(BatchNormalization())\n",
        "\n",
        "    model.add(Conv3D(32, kernel_size=3, padding='same', activation='relu')) # kernel_initializer='he_normal'\n",
        "    model.add(MaxPooling3D(pool_size=2, padding='same'))\n",
        "    model.add(BatchNormalization())\n",
        "    \n",
        "    model.add(Dropout(0.2))\n",
        "\n",
        "    model.add(Conv3D(64, kernel_size=3, padding='same', activation='relu'))\n",
        "    model.add(MaxPooling3D(pool_size=2, padding='same'))\n",
        "    model.add(BatchNormalization())\n",
        "\n",
        "    model.add(Conv3D(128, kernel_size=3, padding='same', activation='relu'))\n",
        "    model.add(MaxPooling3D(pool_size=2, padding='same'))\n",
        "    model.add(BatchNormalization())\n",
        "    \n",
        "    model.add(GlobalAveragePooling3D()) #Flatten layer\n",
        "    model.add(Dense(512, activation='relu'))\n",
        "\n",
        "    model.add(Dropout(0.3))\n",
        "    model.add(Dense(num_classes, activation='softmax', name='pred')) #Output layer\n",
        "\n",
        "\n",
        "    model.compile(loss='categorical crossentropy', optimizer='Adam', metrics=['accuracy'])\n",
        "    model.summary()\n",
        "\n",
        "    return model"
      ]
    },
    {
      "cell_type": "code",
      "execution_count": 18,
      "metadata": {
        "colab": {
          "base_uri": "https://localhost:8080/"
        },
        "id": "LZbpsPnKo3rW",
        "outputId": "c2e97919-c4ae-4fea-cb49-2e1858d7717f"
      },
      "outputs": [
        {
          "output_type": "stream",
          "name": "stdout",
          "text": [
            "Model: \"sequential_3\"\n",
            "_________________________________________________________________\n",
            " Layer (type)                Output Shape              Param #   \n",
            "=================================================================\n",
            " conv3d_12 (Conv3D)          (None, 16, 224, 224, 32)  2624      \n",
            "                                                                 \n",
            " max_pooling3d_10 (MaxPoolin  (None, 8, 112, 112, 32)  0         \n",
            " g3D)                                                            \n",
            "                                                                 \n",
            " batch_normalization_8 (Batc  (None, 8, 112, 112, 32)  128       \n",
            " hNormalization)                                                 \n",
            "                                                                 \n",
            " conv3d_13 (Conv3D)          (None, 8, 112, 112, 32)   27680     \n",
            "                                                                 \n",
            " max_pooling3d_11 (MaxPoolin  (None, 4, 56, 56, 32)    0         \n",
            " g3D)                                                            \n",
            "                                                                 \n",
            " batch_normalization_9 (Batc  (None, 4, 56, 56, 32)    128       \n",
            " hNormalization)                                                 \n",
            "                                                                 \n",
            " dropout_7 (Dropout)         (None, 4, 56, 56, 32)     0         \n",
            "                                                                 \n",
            " conv3d_14 (Conv3D)          (None, 4, 56, 56, 64)     55360     \n",
            "                                                                 \n",
            " max_pooling3d_12 (MaxPoolin  (None, 2, 28, 28, 64)    0         \n",
            " g3D)                                                            \n",
            "                                                                 \n",
            " batch_normalization_10 (Bat  (None, 2, 28, 28, 64)    256       \n",
            " chNormalization)                                                \n",
            "                                                                 \n",
            " conv3d_15 (Conv3D)          (None, 2, 28, 28, 128)    221312    \n",
            "                                                                 \n",
            " max_pooling3d_13 (MaxPoolin  (None, 1, 14, 14, 128)   0         \n",
            " g3D)                                                            \n",
            "                                                                 \n",
            " batch_normalization_11 (Bat  (None, 1, 14, 14, 128)   512       \n",
            " chNormalization)                                                \n",
            "                                                                 \n",
            " global_average_pooling3d_1   (None, 128)              0         \n",
            " (GlobalAveragePooling3D)                                        \n",
            "                                                                 \n",
            " dense_3 (Dense)             (None, 512)               66048     \n",
            "                                                                 \n",
            " dropout_8 (Dropout)         (None, 512)               0         \n",
            "                                                                 \n",
            " pred (Dense)                (None, 4)                 2052      \n",
            "                                                                 \n",
            "=================================================================\n",
            "Total params: 376,100\n",
            "Trainable params: 375,588\n",
            "Non-trainable params: 512\n",
            "_________________________________________________________________\n",
            "Epoch 1/10\n",
            "85/85 [==============================] - 58s 675ms/step - loss: 1.2216 - accuracy: 0.4509 - val_loss: 3.6730 - val_accuracy: 0.1689\n",
            "Epoch 2/10\n",
            "85/85 [==============================] - 54s 643ms/step - loss: 0.5593 - accuracy: 0.8550 - val_loss: 3.5612 - val_accuracy: 0.1712\n",
            "Epoch 3/10\n",
            "85/85 [==============================] - 55s 648ms/step - loss: 0.1647 - accuracy: 0.9776 - val_loss: 4.6882 - val_accuracy: 0.1781\n",
            "Epoch 4/10\n",
            "85/85 [==============================] - 54s 644ms/step - loss: 0.1455 - accuracy: 0.9615 - val_loss: 3.0152 - val_accuracy: 0.2703\n",
            "Epoch 5/10\n",
            "85/85 [==============================] - 55s 649ms/step - loss: 0.0097 - accuracy: 1.0000 - val_loss: 2.8327 - val_accuracy: 0.2808\n",
            "Epoch 6/10\n",
            "85/85 [==============================] - 54s 645ms/step - loss: 0.0046 - accuracy: 1.0000 - val_loss: 2.9981 - val_accuracy: 0.2905\n",
            "Epoch 7/10\n",
            "85/85 [==============================] - 54s 640ms/step - loss: 0.0031 - accuracy: 1.0000 - val_loss: 2.8708 - val_accuracy: 0.3151\n",
            "Epoch 8/10\n",
            "85/85 [==============================] - 55s 647ms/step - loss: 0.0023 - accuracy: 1.0000 - val_loss: 3.1042 - val_accuracy: 0.3082\n",
            "Epoch 9/10\n",
            "85/85 [==============================] - 54s 640ms/step - loss: 0.0019 - accuracy: 1.0000 - val_loss: 3.2114 - val_accuracy: 0.3176\n",
            "Epoch 10/10\n",
            "85/85 [==============================] - 54s 641ms/step - loss: 0.0014 - accuracy: 1.0000 - val_loss: 3.2273 - val_accuracy: 0.2945\n",
            "INFO:tensorflow:Assets written to: OF_model/assets\n"
          ]
        }
      ],
      "source": [
        "\"\"\" Instantiating and compiling model \"\"\"\n",
        "of_model = build_OF_model((INSTACK, IMG_SIZE[0], IMG_SIZE[1], 3), NUM_CLASSES)\n",
        "of_model.compile(optimizer='Adam', loss=\"categorical_crossentropy\", metrics=[\"accuracy\"])\n",
        "of_history = of_model.fit(train_gen,epochs= EPOCHS, steps_per_epoch = LEN_TRAIN, validation_data=val_gen, validation_steps=15 ,verbose=1)\n",
        "\n",
        "\n",
        "of_model.save_weights('OF_weights.h5')\n",
        "of_model.save(\"OF_model\", save_format = 'tf', include_optimizer=True)"
      ]
    },
    {
      "cell_type": "code",
      "execution_count": 20,
      "metadata": {
        "id": "E6EDefZLHTY8",
        "colab": {
          "base_uri": "https://localhost:8080/",
          "height": 573
        },
        "outputId": "faa598ad-ff34-4a8d-91fb-7bda2a922949"
      },
      "outputs": [
        {
          "output_type": "display_data",
          "data": {
            "text/plain": [
              "<Figure size 432x288 with 1 Axes>"
            ],
            "image/png": "[encoded data removed]"
          },
          "metadata": {
            "needs_background": "light"
          }
        },
        {
          "output_type": "display_data",
          "data": {
            "text/plain": [
              "<Figure size 432x288 with 1 Axes>"
            ],
            "image/png": "[encoded data removed]"
          },
          "metadata": {
            "needs_background": "light"
          }
        }
      ],
      "source": [
        "\"\"\" Plotting results \"\"\"\n",
        "utils.plotAccuracy(\"Accuracy Optical Flow model\", of_history.history['accuracy'], of_history.history['val_accuracy'])\n",
        "utils.plotLoss(\"Loss Optical Flow model\", of_history.history['loss'], of_history.history['val_loss'])"
      ]
    },
    {
      "cell_type": "code",
      "execution_count": null,
      "metadata": {
        "id": "00LsNoOaKJRh"
      },
      "outputs": [],
      "source": [
        "#Zip and download the model\n",
        "!zip -r /content/OF_model.zip /content/OF_model\n",
        "from google.colab import files\n",
        "files.download(\"OF_model.zip\")"
      ]
    },
    {
      "cell_type": "code",
      "execution_count": null,
      "metadata": {
        "id": "PrU39YMNP2tF"
      },
      "outputs": [],
      "source": [
        "# https://medium.com/@anuj_shah/creating-custom-data-generator-for-training-deep-learning-models-part-3-c239297cd5d6\n",
        "# https://medium.com/swlh/building-a-custom-keras-data-generator-to-generate-a-sequence-of-videoframes-for-temporal-analysis-e364e9b70eb"
      ]
    }
  ],
  "metadata": {
    "accelerator": "GPU",
    "colab": {
      "collapsed_sections": [],
      "name": "OF_CNN.ipynb",
      "provenance": []
    },
    "kernelspec": {
      "display_name": "Python 3",
      "name": "python3"
    },
    "language_info": {
      "name": "python"
    }
  },
  "nbformat": 4,
  "nbformat_minor": 0
}