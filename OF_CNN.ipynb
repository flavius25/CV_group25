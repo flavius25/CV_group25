{
  "nbformat": 4,
  "nbformat_minor": 0,
  "metadata": {
    "colab": {
      "name": "OF_CNN.ipynb",
      "provenance": [],
      "collapsed_sections": []
    },
    "kernelspec": {
      "name": "python3",
      "display_name": "Python 3"
    },
    "language_info": {
      "name": "python"
    },
    "accelerator": "GPU"
  },
  "cells": [
    {
      "cell_type": "code",
      "source": [
        "!pip install kora -q\n",
        "from kora import drive\n",
        "drive.link_nbs()"
      ],
      "metadata": {
        "id": "ug1kwnN-hATp",
        "colab": {
          "base_uri": "https://localhost:8080/"
        },
        "outputId": "4084335c-d42f-47a6-c1cc-bfe18ef0b497"
      },
      "execution_count": null,
      "outputs": [
        {
          "output_type": "stream",
          "name": "stdout",
          "text": [
            "\u001b[K     |████████████████████████████████| 57 kB 4.0 MB/s \n",
            "\u001b[K     |████████████████████████████████| 60 kB 7.3 MB/s \n",
            "\u001b[?25hMounted at /content/drive\n"
          ]
        }
      ]
    },
    {
      "cell_type": "code",
      "source": [
        "import utils"
      ],
      "metadata": {
        "id": "HQyH_52mhFxJ"
      },
      "execution_count": null,
      "outputs": []
    },
    {
      "cell_type": "code",
      "source": [
        "import tensorflow as tf\n",
        "from sklearn.model_selection import train_test_split\n",
        "from sklearn.metrics import confusion_matrix, ConfusionMatrixDisplay\n",
        "import seaborn as sns\n",
        "import matplotlib.pyplot as plt\n",
        "from matplotlib.pyplot import figure\n",
        "from keras.applications.efficientnet import EfficientNetB0\n",
        "from keras.models import Model, Sequential\n",
        "from keras.layers import TimeDistributed, Input, MaxPooling3D, LSTM, Dense, Conv3D, Conv2D, BatchNormalization, Flatten, Dropout, Convolution2D, Activation, MaxPooling2D, GlobalAveragePooling2D\n",
        "from keras import losses"
      ],
      "metadata": {
        "id": "etQezN1jgrMV"
      },
      "execution_count": null,
      "outputs": []
    },
    {
      "cell_type": "code",
      "source": [
        "\"\"\" Global variables\"\"\"\n",
        "NUM_CLASSES = 4\n",
        "EPOCHS = 30\n",
        "INSTACK = 16\n",
        "IMG_SIZE = (224, 224)"
      ],
      "metadata": {
        "id": "vyS4ZucjkA4t"
      },
      "execution_count": null,
      "outputs": []
    },
    {
      "cell_type": "code",
      "source": [
        "\"\"\" Load train generators \"\"\"\n",
        "\n",
        "train_gen, val_gen, test_gen = loadOFdatagens()"
      ],
      "metadata": {
        "id": "VYqVhhi_hLh-",
        "colab": {
          "base_uri": "https://localhost:8080/",
          "height": 35
        },
        "outputId": "4c8e3cfd-face-41d2-fc50-d345a3854a72"
      },
      "execution_count": null,
      "outputs": [
        {
          "output_type": "execute_result",
          "data": {
            "text/plain": [
              "' Data importing and processing '"
            ],
            "application/vnd.google.colaboratory.intrinsic+json": {
              "type": "string"
            }
          },
          "metadata": {},
          "execution_count": 7
        }
      ]
    },
    {
      "cell_type": "code",
      "execution_count": null,
      "metadata": {
        "id": "eGRFQdn6gp-L"
      },
      "outputs": [],
      "source": [
        "# \"\"\" Optical flow model \"\"\"\n",
        "\n",
        "# def build_model(inshape=(16, 224, 224, 3), NUM_CLASSES=4):\n",
        "#   model = Sequential()\n",
        "#   model.add(TimeDistributed(Conv2D(32, (7, 7), strides=(2, 2), activation='relu', padding='same'), input_shape=(16, 224, 224, 3)))\n",
        "#   model.add(TimeDistributed(Conv2D(32, (3,3), kernel_initializer=\"he_normal\", activation='relu')))\n",
        "#   model.add(TimeDistributed(MaxPooling2D((2, 2), strides=(2, 2))))\n",
        "  \n",
        "#   model.add(TimeDistributed(Conv2D(64, (3,3), padding='same', activation='relu')))\n",
        "#   model.add(TimeDistributed(Conv2D(64, (3,3), padding='same', activation='relu')))\n",
        "#   model.add(TimeDistributed(MaxPooling2D((2, 2), strides=(2, 2))))\n",
        "  \n",
        "#   model.add(TimeDistributed(Conv2D(128, (3,3), padding='same', activation='relu')))\n",
        "#   model.add(TimeDistributed(Conv2D(128, (3,3), padding='same', activation='relu')))\n",
        "#   model.add(TimeDistributed(MaxPooling2D((2, 2), strides=(2, 2))))\n",
        "  \n",
        "#   model.add(TimeDistributed(Conv2D(256, (3,3), padding='same', activation='relu')))\n",
        "#   model.add(TimeDistributed(Conv2D(256, (3,3), padding='same', activation='relu')))\n",
        "#   model.add(TimeDistributed(MaxPooling2D((2, 2), strides=(2, 2))))\n",
        "\n",
        "#   model.add(TimeDistributed(Conv2D(512, (3,3), padding='same', activation='relu')))\n",
        "#   model.add(TimeDistributed(Conv2D(512, (3,3), padding='same', activation='relu')))\n",
        "#   model.add(TimeDistributed(MaxPooling2D((2, 2), strides=(2, 2))))\n",
        "  \n",
        "#   model.add(TimeDistributed(Flatten()))\n",
        "  \n",
        "#   model.add(Dropout(0.5))\n",
        "#   model.add(LSTM(256, return_sequences=False, dropout=0.5))\n",
        "#   model.add(Dense(256, activation='relu'))\n",
        "#   model.add(Dropout(0.5))\n",
        "#   model.add(Dense(NUM_CLASSES, activation='softmax', name='pred'))\n",
        "\n",
        "#   model.summary()\n",
        "#   return model"
      ]
    },
    {
      "cell_type": "code",
      "source": [
        "def build_model(num_classes=NUM_CLASSES):\n",
        "  \n",
        "    model = Sequential()\n",
        "\n",
        "    model.add(Conv3D(32, kernel_size=(3, 3, 3), input_shape=(INSTACK,IMG_SIZE[0],IMG_SIZE[1],3), padding='same', activation='relu'))\n",
        "    model.add(Activation('relu'))\n",
        "\n",
        "    model.add(Conv3D(32, kernel_size=(3, 3, 3), padding='same'))\n",
        "    model.add(Activation('relu'))\n",
        "    model.add(MaxPooling3D(pool_size=(3, 3, 3), padding='same'))\n",
        "\n",
        "    model.add(Dropout(0.2))\n",
        "\n",
        "    model.add(Conv3D(64, kernel_size=(3, 3, 3), padding='same'))\n",
        "    model.add(Activation('relu'))\n",
        "\n",
        "    model.add(Conv3D(64, kernel_size=(3, 3, 3), padding='same'))\n",
        "    model.add(Activation('relu'))\n",
        "    model.add(MaxPooling3D(pool_size=(3, 3, 3), padding='same'))\n",
        "\n",
        "    model.add(Dropout(0.2))    \n",
        "    model.add(Flatten()) #Flatten layer\n",
        "    model.add(Dense(512, activation='relu'))\n",
        "\n",
        "    model.add(Dropout(0.5))\n",
        "    model.add(Dense(num_classes, activation='softmax', name='pred')) #Output layer\n",
        "\n",
        "\n",
        "    model.compile(loss='categorical crossentropy', optimizer='Adam', metrics=['accuracy'])\n",
        "    model.summary()\n",
        "\n",
        "    return model\n",
        "    \n",
        "model = build_model()"
      ],
      "metadata": {
        "colab": {
          "base_uri": "https://localhost:8080/"
        },
        "id": "x2UBC871lA4Q",
        "outputId": "92bbbb7e-dca3-4a9c-fa07-417fdf747257"
      },
      "execution_count": null,
      "outputs": [
        {
          "output_type": "stream",
          "name": "stdout",
          "text": [
            "Model: \"sequential_1\"\n",
            "_________________________________________________________________\n",
            " Layer (type)                Output Shape              Param #   \n",
            "=================================================================\n",
            " conv3d_4 (Conv3D)           (None, 16, 224, 224, 32)  2624      \n",
            "                                                                 \n",
            " activation_4 (Activation)   (None, 16, 224, 224, 32)  0         \n",
            "                                                                 \n",
            " conv3d_5 (Conv3D)           (None, 16, 224, 224, 32)  27680     \n",
            "                                                                 \n",
            " activation_5 (Activation)   (None, 16, 224, 224, 32)  0         \n",
            "                                                                 \n",
            " max_pooling3d_2 (MaxPooling  (None, 6, 75, 75, 32)    0         \n",
            " 3D)                                                             \n",
            "                                                                 \n",
            " dropout_3 (Dropout)         (None, 6, 75, 75, 32)     0         \n",
            "                                                                 \n",
            " conv3d_6 (Conv3D)           (None, 6, 75, 75, 64)     55360     \n",
            "                                                                 \n",
            " activation_6 (Activation)   (None, 6, 75, 75, 64)     0         \n",
            "                                                                 \n",
            " conv3d_7 (Conv3D)           (None, 6, 75, 75, 64)     110656    \n",
            "                                                                 \n",
            " activation_7 (Activation)   (None, 6, 75, 75, 64)     0         \n",
            "                                                                 \n",
            " max_pooling3d_3 (MaxPooling  (None, 2, 25, 25, 64)    0         \n",
            " 3D)                                                             \n",
            "                                                                 \n",
            " dropout_4 (Dropout)         (None, 2, 25, 25, 64)     0         \n",
            "                                                                 \n",
            " flatten_1 (Flatten)         (None, 80000)             0         \n",
            "                                                                 \n",
            " dense_1 (Dense)             (None, 512)               40960512  \n",
            "                                                                 \n",
            " dropout_5 (Dropout)         (None, 512)               0         \n",
            "                                                                 \n",
            " pred (Dense)                (None, 4)                 2052      \n",
            "                                                                 \n",
            "=================================================================\n",
            "Total params: 41,158,884\n",
            "Trainable params: 41,158,884\n",
            "Non-trainable params: 0\n",
            "_________________________________________________________________\n"
          ]
        }
      ]
    },
    {
      "cell_type": "code",
      "source": [
        "\"\"\" Instantiating and compiling model \"\"\"\n",
        "of_model = build_model((INSTACK, IMG_SIZE[0], IMG_SIZE[1], 3), NUM_CLASSES)\n",
        "of_model.compile(optimizer='Adam', loss=\"categorical_crossentropy\", metrics=[\"accuracy\"])\n",
        "\n"
      ],
      "metadata": {
        "id": "LZbpsPnKo3rW"
      },
      "execution_count": null,
      "outputs": []
    },
    {
      "cell_type": "code",
      "source": [
        "# https://medium.com/@anuj_shah/creating-custom-data-generator-for-training-deep-learning-models-part-3-c239297cd5d6\n",
        "# https://medium.com/swlh/building-a-custom-keras-data-generator-to-generate-a-sequence-of-videoframes-for-temporal-analysis-e364e9b70eb"
      ],
      "metadata": {
        "id": "PrU39YMNP2tF"
      },
      "execution_count": null,
      "outputs": []
    }
  ]
}