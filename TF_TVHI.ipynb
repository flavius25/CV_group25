{
  "nbformat": 4,
  "nbformat_minor": 0,
  "metadata": {
    "colab": {
      "name": "TF_TVHI.ipynb",
      "provenance": [],
      "collapsed_sections": []
    },
    "kernelspec": {
      "name": "python3",
      "display_name": "Python 3"
    },
    "language_info": {
      "name": "python"
    },
    "accelerator": "GPU"
  },
  "cells": [
    {
      "cell_type": "code",
      "source": [
        "!pip install kora -q\n",
        "from kora import drive\n",
        "drive.link_nbs()"
      ],
      "metadata": {
        "id": "SFrlx8SeCq2j"
      },
      "execution_count": null,
      "outputs": []
    },
    {
      "cell_type": "code",
      "source": [
        "import utils"
      ],
      "metadata": {
        "id": "_l4CvddICrlZ",
        "outputId": "8d689c62-4b1c-4473-ba4e-741be61f4c7c",
        "colab": {
          "base_uri": "https://localhost:8080/"
        }
      },
      "execution_count": null,
      "outputs": [
        {
          "output_type": "stream",
          "name": "stdout",
          "text": [
            "importing Jupyter notebook from /nbs/utils.ipynb\n",
            "Drive already mounted at /content/drive; to attempt to forcibly remount, call drive.mount(\"/content/drive\", force_remount=True).\n"
          ]
        }
      ]
    },
    {
      "cell_type": "code",
      "source": [
        "!pip install efficientnet"
      ],
      "metadata": {
        "id": "N18i4KWACwUA",
        "colab": {
          "base_uri": "https://localhost:8080/"
        },
        "outputId": "3d7ed8f6-5dbb-442f-a88f-bd4242ff4b18"
      },
      "execution_count": null,
      "outputs": [
        {
          "output_type": "stream",
          "name": "stdout",
          "text": [
            "Requirement already satisfied: efficientnet in /usr/local/lib/python3.7/dist-packages (1.1.1)\n",
            "Requirement already satisfied: scikit-image in /usr/local/lib/python3.7/dist-packages (from efficientnet) (0.18.3)\n",
            "Requirement already satisfied: keras-applications<=1.0.8,>=1.0.7 in /usr/local/lib/python3.7/dist-packages (from efficientnet) (1.0.8)\n",
            "Requirement already satisfied: h5py in /usr/local/lib/python3.7/dist-packages (from keras-applications<=1.0.8,>=1.0.7->efficientnet) (3.1.0)\n",
            "Requirement already satisfied: numpy>=1.9.1 in /usr/local/lib/python3.7/dist-packages (from keras-applications<=1.0.8,>=1.0.7->efficientnet) (1.21.5)\n",
            "Requirement already satisfied: cached-property in /usr/local/lib/python3.7/dist-packages (from h5py->keras-applications<=1.0.8,>=1.0.7->efficientnet) (1.5.2)\n",
            "Requirement already satisfied: scipy>=1.0.1 in /usr/local/lib/python3.7/dist-packages (from scikit-image->efficientnet) (1.4.1)\n",
            "Requirement already satisfied: tifffile>=2019.7.26 in /usr/local/lib/python3.7/dist-packages (from scikit-image->efficientnet) (2021.11.2)\n",
            "Requirement already satisfied: networkx>=2.0 in /usr/local/lib/python3.7/dist-packages (from scikit-image->efficientnet) (2.6.3)\n",
            "Requirement already satisfied: pillow!=7.1.0,!=7.1.1,>=4.3.0 in /usr/local/lib/python3.7/dist-packages (from scikit-image->efficientnet) (7.1.2)\n",
            "Requirement already satisfied: matplotlib!=3.0.0,>=2.0.0 in /usr/local/lib/python3.7/dist-packages (from scikit-image->efficientnet) (3.2.2)\n",
            "Requirement already satisfied: PyWavelets>=1.1.1 in /usr/local/lib/python3.7/dist-packages (from scikit-image->efficientnet) (1.3.0)\n",
            "Requirement already satisfied: imageio>=2.3.0 in /usr/local/lib/python3.7/dist-packages (from scikit-image->efficientnet) (2.4.1)\n",
            "Requirement already satisfied: pyparsing!=2.0.4,!=2.1.2,!=2.1.6,>=2.0.1 in /usr/local/lib/python3.7/dist-packages (from matplotlib!=3.0.0,>=2.0.0->scikit-image->efficientnet) (3.0.7)\n",
            "Requirement already satisfied: cycler>=0.10 in /usr/local/lib/python3.7/dist-packages (from matplotlib!=3.0.0,>=2.0.0->scikit-image->efficientnet) (0.11.0)\n",
            "Requirement already satisfied: kiwisolver>=1.0.1 in /usr/local/lib/python3.7/dist-packages (from matplotlib!=3.0.0,>=2.0.0->scikit-image->efficientnet) (1.4.0)\n",
            "Requirement already satisfied: python-dateutil>=2.1 in /usr/local/lib/python3.7/dist-packages (from matplotlib!=3.0.0,>=2.0.0->scikit-image->efficientnet) (2.8.2)\n",
            "Requirement already satisfied: typing-extensions in /usr/local/lib/python3.7/dist-packages (from kiwisolver>=1.0.1->matplotlib!=3.0.0,>=2.0.0->scikit-image->efficientnet) (3.10.0.2)\n",
            "Requirement already satisfied: six>=1.5 in /usr/local/lib/python3.7/dist-packages (from python-dateutil>=2.1->matplotlib!=3.0.0,>=2.0.0->scikit-image->efficientnet) (1.15.0)\n"
          ]
        }
      ]
    },
    {
      "cell_type": "code",
      "source": [
        "import tensorflow as tf\n",
        "from sklearn.model_selection import train_test_split\n",
        "from sklearn.metrics import confusion_matrix, ConfusionMatrixDisplay\n",
        "import seaborn as sns\n",
        "import matplotlib.pyplot as plt\n",
        "from matplotlib.pyplot import figure\n",
        "import efficientnet.keras as efn\n",
        "from keras.applications.efficientnet import EfficientNetB0\n",
        "from keras.models import Model\n",
        "from keras.layers import Input, Dense, Flatten, Dropout, GlobalAveragePooling2D, BatchNormalization"
      ],
      "metadata": {
        "id": "VI0_A1-dCz4c"
      },
      "execution_count": 63,
      "outputs": []
    },
    {
      "cell_type": "markdown",
      "source": [
        ""
      ],
      "metadata": {
        "id": "aBrZ0a2Rkutq"
      }
    },
    {
      "cell_type": "code",
      "source": [
        "IMG_SIZE = (224,224)\n",
        "EPOCHS = 30\n",
        "NUM_CLASSES = 4"
      ],
      "metadata": {
        "id": "MU7cRbUvC4OF"
      },
      "execution_count": null,
      "outputs": []
    },
    {
      "cell_type": "code",
      "execution_count": 9,
      "metadata": {
        "id": "2HTsi0mh9A1E",
        "colab": {
          "base_uri": "https://localhost:8080/"
        },
        "outputId": "2e206263-83b9-4792-db5b-c69d43d91c2d"
      },
      "outputs": [
        {
          "output_type": "stream",
          "name": "stdout",
          "text": [
            "--2022-04-13 15:16:18--  http://www.robots.ox.ac.uk/~alonso/data/tv_human_interactions_videos.tar.gz\n",
            "Resolving www.robots.ox.ac.uk (www.robots.ox.ac.uk)... 129.67.94.2\n",
            "Connecting to www.robots.ox.ac.uk (www.robots.ox.ac.uk)|129.67.94.2|:80... connected.\n",
            "HTTP request sent, awaiting response... 301 Moved Permanently\n",
            "Location: https://www.robots.ox.ac.uk/~alonso/data/tv_human_interactions_videos.tar.gz [following]\n",
            "--2022-04-13 15:16:18--  https://www.robots.ox.ac.uk/~alonso/data/tv_human_interactions_videos.tar.gz\n",
            "Connecting to www.robots.ox.ac.uk (www.robots.ox.ac.uk)|129.67.94.2|:443... connected.\n",
            "HTTP request sent, awaiting response... 200 OK\n",
            "Length: 163535078 (156M) [application/x-gzip]\n",
            "Saving to: ‘tv_human_interactions_videos.tar.gz.3’\n",
            "\n",
            "tv_human_interactio 100%[===================>] 155.96M  34.2MB/s    in 5.2s    \n",
            "\n",
            "2022-04-13 15:16:23 (30.1 MB/s) - ‘tv_human_interactions_videos.tar.gz.3’ saved [163535078/163535078]\n",
            "\n",
            "--2022-04-13 15:16:23--  http://www.robots.ox.ac.uk/~alonso/data/readme.txt\n",
            "Resolving www.robots.ox.ac.uk (www.robots.ox.ac.uk)... 129.67.94.2\n",
            "Connecting to www.robots.ox.ac.uk (www.robots.ox.ac.uk)|129.67.94.2|:80... connected.\n",
            "HTTP request sent, awaiting response... 301 Moved Permanently\n",
            "Location: https://www.robots.ox.ac.uk/~alonso/data/readme.txt [following]\n",
            "--2022-04-13 15:16:24--  https://www.robots.ox.ac.uk/~alonso/data/readme.txt\n",
            "Connecting to www.robots.ox.ac.uk (www.robots.ox.ac.uk)|129.67.94.2|:443... connected.\n",
            "HTTP request sent, awaiting response... 200 OK\n",
            "Length: 2514 (2.5K) [text/plain]\n",
            "Saving to: ‘readme.txt.3’\n",
            "\n",
            "readme.txt.3        100%[===================>]   2.46K  --.-KB/s    in 0s      \n",
            "\n",
            "2022-04-13 15:16:24 (152 MB/s) - ‘readme.txt.3’ saved [2514/2514]\n",
            "\n",
            "mkdir: cannot create directory ‘TVHI_data’: File exists\n",
            "tv_human_interactions_videos/\n",
            "tv_human_interactions_videos/negative_0001.avi\n",
            "tv_human_interactions_videos/negative_0002.avi\n",
            "tv_human_interactions_videos/negative_0003.avi\n",
            "tv_human_interactions_videos/negative_0004.avi\n",
            "tv_human_interactions_videos/negative_0005.avi\n",
            "tv_human_interactions_videos/negative_0006.avi\n",
            "tv_human_interactions_videos/negative_0007.avi\n",
            "tv_human_interactions_videos/negative_0008.avi\n",
            "tv_human_interactions_videos/negative_0009.avi\n",
            "tv_human_interactions_videos/negative_0010.avi\n",
            "tv_human_interactions_videos/negative_0011.avi\n",
            "tv_human_interactions_videos/negative_0012.avi\n",
            "tv_human_interactions_videos/negative_0013.avi\n",
            "tv_human_interactions_videos/negative_0014.avi\n",
            "tv_human_interactions_videos/negative_0015.avi\n",
            "tv_human_interactions_videos/negative_0016.avi\n",
            "tv_human_interactions_videos/negative_0017.avi\n",
            "tv_human_interactions_videos/negative_0018.avi\n",
            "tv_human_interactions_videos/negative_0019.avi\n",
            "tv_human_interactions_videos/negative_0020.avi\n",
            "tv_human_interactions_videos/negative_0021.avi\n",
            "tv_human_interactions_videos/negative_0022.avi\n",
            "tv_human_interactions_videos/negative_0023.avi\n",
            "tv_human_interactions_videos/negative_0024.avi\n",
            "tv_human_interactions_videos/negative_0025.avi\n",
            "tv_human_interactions_videos/negative_0026.avi\n",
            "tv_human_interactions_videos/negative_0027.avi\n",
            "tv_human_interactions_videos/negative_0028.avi\n",
            "tv_human_interactions_videos/negative_0029.avi\n",
            "tv_human_interactions_videos/negative_0030.avi\n",
            "tv_human_interactions_videos/negative_0031.avi\n",
            "tv_human_interactions_videos/negative_0032.avi\n",
            "tv_human_interactions_videos/negative_0033.avi\n",
            "tv_human_interactions_videos/negative_0034.avi\n",
            "tv_human_interactions_videos/negative_0035.avi\n",
            "tv_human_interactions_videos/negative_0036.avi\n",
            "tv_human_interactions_videos/negative_0037.avi\n",
            "tv_human_interactions_videos/negative_0038.avi\n",
            "tv_human_interactions_videos/negative_0039.avi\n",
            "tv_human_interactions_videos/negative_0040.avi\n",
            "tv_human_interactions_videos/negative_0041.avi\n",
            "tv_human_interactions_videos/negative_0042.avi\n",
            "tv_human_interactions_videos/negative_0043.avi\n",
            "tv_human_interactions_videos/negative_0044.avi\n",
            "tv_human_interactions_videos/negative_0045.avi\n",
            "tv_human_interactions_videos/negative_0046.avi\n",
            "tv_human_interactions_videos/negative_0047.avi\n",
            "tv_human_interactions_videos/negative_0048.avi\n",
            "tv_human_interactions_videos/negative_0049.avi\n",
            "tv_human_interactions_videos/negative_0050.avi\n",
            "tv_human_interactions_videos/negative_0051.avi\n",
            "tv_human_interactions_videos/negative_0052.avi\n",
            "tv_human_interactions_videos/negative_0053.avi\n",
            "tv_human_interactions_videos/negative_0054.avi\n",
            "tv_human_interactions_videos/negative_0055.avi\n",
            "tv_human_interactions_videos/negative_0056.avi\n",
            "tv_human_interactions_videos/negative_0057.avi\n",
            "tv_human_interactions_videos/negative_0058.avi\n",
            "tv_human_interactions_videos/negative_0059.avi\n",
            "tv_human_interactions_videos/negative_0060.avi\n",
            "tv_human_interactions_videos/negative_0061.avi\n",
            "tv_human_interactions_videos/negative_0062.avi\n",
            "tv_human_interactions_videos/negative_0063.avi\n",
            "tv_human_interactions_videos/negative_0064.avi\n",
            "tv_human_interactions_videos/negative_0065.avi\n",
            "tv_human_interactions_videos/negative_0066.avi\n",
            "tv_human_interactions_videos/negative_0067.avi\n",
            "tv_human_interactions_videos/negative_0068.avi\n",
            "tv_human_interactions_videos/negative_0069.avi\n",
            "tv_human_interactions_videos/negative_0070.avi\n",
            "tv_human_interactions_videos/negative_0071.avi\n",
            "tv_human_interactions_videos/negative_0072.avi\n",
            "tv_human_interactions_videos/negative_0073.avi\n",
            "tv_human_interactions_videos/negative_0074.avi\n",
            "tv_human_interactions_videos/negative_0075.avi\n",
            "tv_human_interactions_videos/negative_0076.avi\n",
            "tv_human_interactions_videos/negative_0077.avi\n",
            "tv_human_interactions_videos/negative_0078.avi\n",
            "tv_human_interactions_videos/negative_0079.avi\n",
            "tv_human_interactions_videos/negative_0080.avi\n",
            "tv_human_interactions_videos/negative_0081.avi\n",
            "tv_human_interactions_videos/negative_0082.avi\n",
            "tv_human_interactions_videos/negative_0083.avi\n",
            "tv_human_interactions_videos/negative_0084.avi\n",
            "tv_human_interactions_videos/negative_0085.avi\n",
            "tv_human_interactions_videos/negative_0086.avi\n",
            "tv_human_interactions_videos/negative_0087.avi\n",
            "tv_human_interactions_videos/negative_0088.avi\n",
            "tv_human_interactions_videos/negative_0089.avi\n",
            "tv_human_interactions_videos/negative_0090.avi\n",
            "tv_human_interactions_videos/negative_0091.avi\n",
            "tv_human_interactions_videos/negative_0092.avi\n",
            "tv_human_interactions_videos/negative_0093.avi\n",
            "tv_human_interactions_videos/negative_0094.avi\n",
            "tv_human_interactions_videos/negative_0095.avi\n",
            "tv_human_interactions_videos/negative_0096.avi\n",
            "tv_human_interactions_videos/negative_0097.avi\n",
            "tv_human_interactions_videos/negative_0098.avi\n",
            "tv_human_interactions_videos/negative_0099.avi\n",
            "tv_human_interactions_videos/negative_0100.avi\n",
            "tv_human_interactions_videos/handShake_0001.avi\n",
            "tv_human_interactions_videos/handShake_0002.avi\n",
            "tv_human_interactions_videos/handShake_0003.avi\n",
            "tv_human_interactions_videos/handShake_0004.avi\n",
            "tv_human_interactions_videos/handShake_0005.avi\n",
            "tv_human_interactions_videos/handShake_0006.avi\n",
            "tv_human_interactions_videos/handShake_0007.avi\n",
            "tv_human_interactions_videos/handShake_0008.avi\n",
            "tv_human_interactions_videos/handShake_0009.avi\n",
            "tv_human_interactions_videos/handShake_0010.avi\n",
            "tv_human_interactions_videos/handShake_0011.avi\n",
            "tv_human_interactions_videos/handShake_0012.avi\n",
            "tv_human_interactions_videos/handShake_0013.avi\n",
            "tv_human_interactions_videos/handShake_0014.avi\n",
            "tv_human_interactions_videos/handShake_0015.avi\n",
            "tv_human_interactions_videos/handShake_0016.avi\n",
            "tv_human_interactions_videos/handShake_0017.avi\n",
            "tv_human_interactions_videos/handShake_0018.avi\n",
            "tv_human_interactions_videos/handShake_0019.avi\n",
            "tv_human_interactions_videos/handShake_0020.avi\n",
            "tv_human_interactions_videos/handShake_0021.avi\n",
            "tv_human_interactions_videos/handShake_0022.avi\n",
            "tv_human_interactions_videos/handShake_0023.avi\n",
            "tv_human_interactions_videos/handShake_0024.avi\n",
            "tv_human_interactions_videos/handShake_0025.avi\n",
            "tv_human_interactions_videos/handShake_0026.avi\n",
            "tv_human_interactions_videos/handShake_0027.avi\n",
            "tv_human_interactions_videos/handShake_0028.avi\n",
            "tv_human_interactions_videos/handShake_0029.avi\n",
            "tv_human_interactions_videos/handShake_0030.avi\n",
            "tv_human_interactions_videos/handShake_0031.avi\n",
            "tv_human_interactions_videos/handShake_0032.avi\n",
            "tv_human_interactions_videos/handShake_0033.avi\n",
            "tv_human_interactions_videos/handShake_0034.avi\n",
            "tv_human_interactions_videos/handShake_0035.avi\n",
            "tv_human_interactions_videos/handShake_0036.avi\n",
            "tv_human_interactions_videos/handShake_0037.avi\n",
            "tv_human_interactions_videos/handShake_0038.avi\n",
            "tv_human_interactions_videos/handShake_0039.avi\n",
            "tv_human_interactions_videos/handShake_0040.avi\n",
            "tv_human_interactions_videos/handShake_0041.avi\n",
            "tv_human_interactions_videos/handShake_0042.avi\n",
            "tv_human_interactions_videos/handShake_0043.avi\n",
            "tv_human_interactions_videos/handShake_0044.avi\n",
            "tv_human_interactions_videos/handShake_0045.avi\n",
            "tv_human_interactions_videos/handShake_0046.avi\n",
            "tv_human_interactions_videos/handShake_0047.avi\n",
            "tv_human_interactions_videos/handShake_0048.avi\n",
            "tv_human_interactions_videos/handShake_0049.avi\n",
            "tv_human_interactions_videos/handShake_0050.avi\n",
            "tv_human_interactions_videos/highFive_0001.avi\n",
            "tv_human_interactions_videos/highFive_0002.avi\n",
            "tv_human_interactions_videos/highFive_0003.avi\n",
            "tv_human_interactions_videos/highFive_0004.avi\n",
            "tv_human_interactions_videos/highFive_0005.avi\n",
            "tv_human_interactions_videos/highFive_0006.avi\n",
            "tv_human_interactions_videos/highFive_0007.avi\n",
            "tv_human_interactions_videos/highFive_0008.avi\n",
            "tv_human_interactions_videos/highFive_0009.avi\n",
            "tv_human_interactions_videos/highFive_0010.avi\n",
            "tv_human_interactions_videos/highFive_0011.avi\n",
            "tv_human_interactions_videos/highFive_0012.avi\n",
            "tv_human_interactions_videos/highFive_0013.avi\n",
            "tv_human_interactions_videos/highFive_0014.avi\n",
            "tv_human_interactions_videos/highFive_0015.avi\n",
            "tv_human_interactions_videos/highFive_0016.avi\n",
            "tv_human_interactions_videos/highFive_0017.avi\n",
            "tv_human_interactions_videos/highFive_0018.avi\n",
            "tv_human_interactions_videos/highFive_0019.avi\n",
            "tv_human_interactions_videos/highFive_0020.avi\n",
            "tv_human_interactions_videos/highFive_0021.avi\n",
            "tv_human_interactions_videos/highFive_0022.avi\n",
            "tv_human_interactions_videos/highFive_0023.avi\n",
            "tv_human_interactions_videos/highFive_0024.avi\n",
            "tv_human_interactions_videos/highFive_0025.avi\n",
            "tv_human_interactions_videos/highFive_0026.avi\n",
            "tv_human_interactions_videos/highFive_0027.avi\n",
            "tv_human_interactions_videos/highFive_0028.avi\n",
            "tv_human_interactions_videos/highFive_0029.avi\n",
            "tv_human_interactions_videos/highFive_0030.avi\n",
            "tv_human_interactions_videos/highFive_0031.avi\n",
            "tv_human_interactions_videos/highFive_0032.avi\n",
            "tv_human_interactions_videos/highFive_0033.avi\n",
            "tv_human_interactions_videos/highFive_0034.avi\n",
            "tv_human_interactions_videos/highFive_0035.avi\n",
            "tv_human_interactions_videos/highFive_0036.avi\n",
            "tv_human_interactions_videos/highFive_0037.avi\n",
            "tv_human_interactions_videos/highFive_0038.avi\n",
            "tv_human_interactions_videos/highFive_0039.avi\n",
            "tv_human_interactions_videos/highFive_0040.avi\n",
            "tv_human_interactions_videos/highFive_0041.avi\n",
            "tv_human_interactions_videos/highFive_0042.avi\n",
            "tv_human_interactions_videos/highFive_0043.avi\n",
            "tv_human_interactions_videos/highFive_0044.avi\n",
            "tv_human_interactions_videos/highFive_0045.avi\n",
            "tv_human_interactions_videos/highFive_0046.avi\n",
            "tv_human_interactions_videos/highFive_0047.avi\n",
            "tv_human_interactions_videos/highFive_0048.avi\n",
            "tv_human_interactions_videos/highFive_0049.avi\n",
            "tv_human_interactions_videos/highFive_0050.avi\n",
            "tv_human_interactions_videos/hug_0001.avi\n",
            "tv_human_interactions_videos/hug_0002.avi\n",
            "tv_human_interactions_videos/hug_0003.avi\n",
            "tv_human_interactions_videos/hug_0004.avi\n",
            "tv_human_interactions_videos/hug_0005.avi\n",
            "tv_human_interactions_videos/hug_0006.avi\n",
            "tv_human_interactions_videos/hug_0007.avi\n",
            "tv_human_interactions_videos/hug_0008.avi\n",
            "tv_human_interactions_videos/hug_0009.avi\n",
            "tv_human_interactions_videos/hug_0010.avi\n",
            "tv_human_interactions_videos/hug_0011.avi\n",
            "tv_human_interactions_videos/hug_0012.avi\n",
            "tv_human_interactions_videos/hug_0013.avi\n",
            "tv_human_interactions_videos/hug_0014.avi\n",
            "tv_human_interactions_videos/hug_0015.avi\n",
            "tv_human_interactions_videos/hug_0016.avi\n",
            "tv_human_interactions_videos/hug_0017.avi\n",
            "tv_human_interactions_videos/hug_0018.avi\n",
            "tv_human_interactions_videos/hug_0019.avi\n",
            "tv_human_interactions_videos/hug_0020.avi\n",
            "tv_human_interactions_videos/hug_0021.avi\n",
            "tv_human_interactions_videos/hug_0022.avi\n",
            "tv_human_interactions_videos/hug_0023.avi\n",
            "tv_human_interactions_videos/hug_0024.avi\n",
            "tv_human_interactions_videos/hug_0025.avi\n",
            "tv_human_interactions_videos/hug_0026.avi\n",
            "tv_human_interactions_videos/hug_0027.avi\n",
            "tv_human_interactions_videos/hug_0028.avi\n",
            "tv_human_interactions_videos/hug_0029.avi\n",
            "tv_human_interactions_videos/hug_0030.avi\n",
            "tv_human_interactions_videos/hug_0031.avi\n",
            "tv_human_interactions_videos/hug_0032.avi\n",
            "tv_human_interactions_videos/hug_0033.avi\n",
            "tv_human_interactions_videos/hug_0034.avi\n",
            "tv_human_interactions_videos/hug_0035.avi\n",
            "tv_human_interactions_videos/hug_0036.avi\n",
            "tv_human_interactions_videos/hug_0037.avi\n",
            "tv_human_interactions_videos/hug_0038.avi\n",
            "tv_human_interactions_videos/hug_0039.avi\n",
            "tv_human_interactions_videos/hug_0040.avi\n",
            "tv_human_interactions_videos/hug_0041.avi\n",
            "tv_human_interactions_videos/hug_0042.avi\n",
            "tv_human_interactions_videos/hug_0043.avi\n",
            "tv_human_interactions_videos/hug_0044.avi\n",
            "tv_human_interactions_videos/hug_0045.avi\n",
            "tv_human_interactions_videos/hug_0046.avi\n",
            "tv_human_interactions_videos/hug_0047.avi\n",
            "tv_human_interactions_videos/hug_0048.avi\n",
            "tv_human_interactions_videos/hug_0049.avi\n",
            "tv_human_interactions_videos/hug_0050.avi\n",
            "tv_human_interactions_videos/kiss_0001.avi\n",
            "tv_human_interactions_videos/kiss_0002.avi\n",
            "tv_human_interactions_videos/kiss_0003.avi\n",
            "tv_human_interactions_videos/kiss_0004.avi\n",
            "tv_human_interactions_videos/kiss_0005.avi\n",
            "tv_human_interactions_videos/kiss_0006.avi\n",
            "tv_human_interactions_videos/kiss_0007.avi\n",
            "tv_human_interactions_videos/kiss_0008.avi\n",
            "tv_human_interactions_videos/kiss_0009.avi\n",
            "tv_human_interactions_videos/kiss_0010.avi\n",
            "tv_human_interactions_videos/kiss_0011.avi\n",
            "tv_human_interactions_videos/kiss_0012.avi\n",
            "tv_human_interactions_videos/kiss_0013.avi\n",
            "tv_human_interactions_videos/kiss_0014.avi\n",
            "tv_human_interactions_videos/kiss_0015.avi\n",
            "tv_human_interactions_videos/kiss_0016.avi\n",
            "tv_human_interactions_videos/kiss_0017.avi\n",
            "tv_human_interactions_videos/kiss_0018.avi\n",
            "tv_human_interactions_videos/kiss_0019.avi\n",
            "tv_human_interactions_videos/kiss_0020.avi\n",
            "tv_human_interactions_videos/kiss_0021.avi\n",
            "tv_human_interactions_videos/kiss_0022.avi\n",
            "tv_human_interactions_videos/kiss_0023.avi\n",
            "tv_human_interactions_videos/kiss_0024.avi\n",
            "tv_human_interactions_videos/kiss_0025.avi\n",
            "tv_human_interactions_videos/kiss_0026.avi\n",
            "tv_human_interactions_videos/kiss_0027.avi\n",
            "tv_human_interactions_videos/kiss_0028.avi\n",
            "tv_human_interactions_videos/kiss_0029.avi\n",
            "tv_human_interactions_videos/kiss_0030.avi\n",
            "tv_human_interactions_videos/kiss_0031.avi\n",
            "tv_human_interactions_videos/kiss_0032.avi\n",
            "tv_human_interactions_videos/kiss_0033.avi\n",
            "tv_human_interactions_videos/kiss_0034.avi\n",
            "tv_human_interactions_videos/kiss_0035.avi\n",
            "tv_human_interactions_videos/kiss_0036.avi\n",
            "tv_human_interactions_videos/kiss_0037.avi\n",
            "tv_human_interactions_videos/kiss_0038.avi\n",
            "tv_human_interactions_videos/kiss_0039.avi\n",
            "tv_human_interactions_videos/kiss_0040.avi\n",
            "tv_human_interactions_videos/kiss_0041.avi\n",
            "tv_human_interactions_videos/kiss_0042.avi\n",
            "tv_human_interactions_videos/kiss_0043.avi\n",
            "tv_human_interactions_videos/kiss_0044.avi\n",
            "tv_human_interactions_videos/kiss_0045.avi\n",
            "tv_human_interactions_videos/kiss_0046.avi\n",
            "tv_human_interactions_videos/kiss_0047.avi\n",
            "tv_human_interactions_videos/kiss_0048.avi\n",
            "tv_human_interactions_videos/kiss_0049.avi\n",
            "tv_human_interactions_videos/kiss_0050.avi\n",
            "mv: cannot move 'readme.txt' to 'TV-HI/readme.txt': No such file or directory\n",
            "Found 85 files belonging to 4 classes.\n",
            "Found 15 files belonging to 4 classes.\n",
            "Found 100 files belonging to 4 classes.\n"
          ]
        }
      ],
      "source": [
        "\"\"\" Load TVHI dataset \"\"\"\n",
        "#Load the dataset which has already been preprocessed, set needDirectories to False if SF_train, SF_test, and SF_validation dirs already exist\n",
        "train_ds, test_ds, val_ds, train_labels, test_labels, validation_labels, class_names = utils.loadTVHI(img_size = IMG_SIZE, needDirectories=False)\n",
        "\n",
        "#Path to pre-trained model\n",
        "SF_weights = \"/content/drive/MyDrive/model_weights.h5\"\n"
      ]
    },
    {
      "cell_type": "code",
      "source": [
        "\"\"\" One-hot encoding \"\"\"\n",
        "\n",
        "def onehot_encoding(image, label):\n",
        "    label = tf.one_hot(label, NUM_CLASSES)\n",
        "    return image, label\n",
        "\n",
        "#Apply one hot encoding to the different datasets\n",
        "train_ds = train_ds.map(onehot_encoding, num_parallel_calls=tf.data.AUTOTUNE)\n",
        "train_ds = train_ds.prefetch(tf.data.AUTOTUNE)\n",
        "\n",
        "val_ds = val_ds.map(onehot_encoding, num_parallel_calls=tf.data.AUTOTUNE)\n",
        "val_ds = val_ds.prefetch(tf.data.AUTOTUNE)\n",
        "\n",
        "test_ds = test_ds.map(onehot_encoding)\n"
      ],
      "metadata": {
        "id": "D2jeTxpaDoQr"
      },
      "execution_count": 10,
      "outputs": []
    },
    {
      "cell_type": "code",
      "source": [
        "#https://proceedings.neurips.cc/paper/2019/file/fd2c5e4680d9a01dba3aada5ece22270-Paper.pdf    - reference for using batch normalisation"
      ],
      "metadata": {
        "id": "H8NwPVc8Fofb"
      },
      "execution_count": null,
      "outputs": []
    },
    {
      "cell_type": "code",
      "source": [
        "SF_weights = \"/content/drive/MyDrive/model_weights\""
      ],
      "metadata": {
        "id": "FA_z2JcVtVuz"
      },
      "execution_count": 86,
      "outputs": []
    },
    {
      "cell_type": "code",
      "source": [
        "\"\"\" Build transfer learning model \"\"\"\n",
        "\n",
        "def build_tfl_model(num_classes):\n",
        "    inputs = Input(shape=(IMG_SIZE[0], IMG_SIZE[1], 3))\n",
        "    img_augmentation = utils.dataAugmentation()\n",
        "    x = img_augmentation(inputs)\n",
        "    tfl_model = EfficientNetB0(include_top=False, input_tensor=x, weights=SF_weights)\n",
        "\n",
        "    # Freeze pretrained weights so no more training will happen \n",
        "    tfl_model.trainable = False\n",
        "\n",
        "    # Add new top layers that will be trained\n",
        "    x = GlobalAveragePooling2D(name=\"avg_pool\")(tfl_model.output)\n",
        "    x = BatchNormalization()(x)\n",
        "\n",
        "    #Set dropout rate to 0.2 to adjust for overfitting as transfer learning is prone to overfitting\n",
        "    dropout_rate = 0.2\n",
        "    x = Dropout(dropout_rate, name=\"top_dropout\")(x)\n",
        "    outputs = Dense(NUM_CLASSES, activation=\"softmax\", name=\"pred\")(x)\n",
        "\n",
        "    # Compile the model with Adam optimiser, learning rate set to rather large to begin with \n",
        "    tfl_model = tf.keras.Model(inputs, outputs, name=\"EfficientNet\")\n",
        "    #tfl_model.load_weights(\"/content/drive/MyDrive/model_weights.h5\")\n",
        "    tf_optimizer = tf.keras.optimizers.Adam(learning_rate=0.1)\n",
        "    tfl_model.compile(\n",
        "        optimizer=tf_optimizer, loss=\"categorical_crossentropy\", metrics=[\"accuracy\"]\n",
        "    )\n",
        "    return tfl_model\n"
      ],
      "metadata": {
        "id": "bME0O9mtDML3"
      },
      "execution_count": 87,
      "outputs": []
    },
    {
      "cell_type": "code",
      "source": [
        "\"\"\" Train the model \"\"\"\n",
        "#Build the model\n",
        "model = build_tfl_model(num_classes=NUM_CLASSES)\n",
        "\n",
        "#Fit the model \n",
        "history = model.fit(train_ds, epochs=50, validation_data=val_ds, verbose=2)\n",
        "\n",
        "#Save weights and model as we need these for transfer learning \n",
        "model.save_weights(\"TFL_weights.h5\")\n",
        "model.save(\"TFL_model\")\n"
      ],
      "metadata": {
        "id": "ff07kM5zaWYT",
        "colab": {
          "base_uri": "https://localhost:8080/",
          "height": 400
        },
        "outputId": "a0673260-1cbd-4c46-e630-ffe4006b7fd6"
      },
      "execution_count": 88,
      "outputs": [
        {
          "output_type": "error",
          "ename": "ValueError",
          "evalue": "ignored",
          "traceback": [
            "\u001b[0;31m---------------------------------------------------------------------------\u001b[0m",
            "\u001b[0;31mValueError\u001b[0m                                Traceback (most recent call last)",
            "\u001b[0;32m<ipython-input-88-19404492382a>\u001b[0m in \u001b[0;36m<module>\u001b[0;34m()\u001b[0m\n\u001b[1;32m      1\u001b[0m \u001b[0;34m\"\"\" Train the model \"\"\"\u001b[0m\u001b[0;34m\u001b[0m\u001b[0;34m\u001b[0m\u001b[0m\n\u001b[1;32m      2\u001b[0m \u001b[0;31m#Build the model\u001b[0m\u001b[0;34m\u001b[0m\u001b[0;34m\u001b[0m\u001b[0;34m\u001b[0m\u001b[0m\n\u001b[0;32m----> 3\u001b[0;31m \u001b[0mmodel\u001b[0m \u001b[0;34m=\u001b[0m \u001b[0mbuild_tfl_model\u001b[0m\u001b[0;34m(\u001b[0m\u001b[0mnum_classes\u001b[0m\u001b[0;34m=\u001b[0m\u001b[0mNUM_CLASSES\u001b[0m\u001b[0;34m)\u001b[0m\u001b[0;34m\u001b[0m\u001b[0;34m\u001b[0m\u001b[0m\n\u001b[0m\u001b[1;32m      4\u001b[0m \u001b[0;34m\u001b[0m\u001b[0m\n\u001b[1;32m      5\u001b[0m \u001b[0;31m#Fit the model\u001b[0m\u001b[0;34m\u001b[0m\u001b[0;34m\u001b[0m\u001b[0;34m\u001b[0m\u001b[0m\n",
            "\u001b[0;32m<ipython-input-87-111dafd59d69>\u001b[0m in \u001b[0;36mbuild_tfl_model\u001b[0;34m(num_classes)\u001b[0m\n\u001b[1;32m      5\u001b[0m     \u001b[0mimg_augmentation\u001b[0m \u001b[0;34m=\u001b[0m \u001b[0mutils\u001b[0m\u001b[0;34m.\u001b[0m\u001b[0mdataAugmentation\u001b[0m\u001b[0;34m(\u001b[0m\u001b[0;34m)\u001b[0m\u001b[0;34m\u001b[0m\u001b[0;34m\u001b[0m\u001b[0m\n\u001b[1;32m      6\u001b[0m     \u001b[0mx\u001b[0m \u001b[0;34m=\u001b[0m \u001b[0mimg_augmentation\u001b[0m\u001b[0;34m(\u001b[0m\u001b[0minputs\u001b[0m\u001b[0;34m)\u001b[0m\u001b[0;34m\u001b[0m\u001b[0;34m\u001b[0m\u001b[0m\n\u001b[0;32m----> 7\u001b[0;31m     \u001b[0mtfl_model\u001b[0m \u001b[0;34m=\u001b[0m \u001b[0mEfficientNetB0\u001b[0m\u001b[0;34m(\u001b[0m\u001b[0minclude_top\u001b[0m\u001b[0;34m=\u001b[0m\u001b[0;32mFalse\u001b[0m\u001b[0;34m,\u001b[0m \u001b[0minput_tensor\u001b[0m\u001b[0;34m=\u001b[0m\u001b[0mx\u001b[0m\u001b[0;34m,\u001b[0m \u001b[0mweights\u001b[0m\u001b[0;34m=\u001b[0m\u001b[0mSF_weights\u001b[0m\u001b[0;34m)\u001b[0m\u001b[0;34m\u001b[0m\u001b[0;34m\u001b[0m\u001b[0m\n\u001b[0m\u001b[1;32m      8\u001b[0m \u001b[0;34m\u001b[0m\u001b[0m\n\u001b[1;32m      9\u001b[0m     \u001b[0;31m# Freeze pretrained weights so no more training will happen\u001b[0m\u001b[0;34m\u001b[0m\u001b[0;34m\u001b[0m\u001b[0;34m\u001b[0m\u001b[0m\n",
            "\u001b[0;32m/usr/local/lib/python3.7/dist-packages/keras/applications/efficientnet.py\u001b[0m in \u001b[0;36mEfficientNetB0\u001b[0;34m(include_top, weights, input_tensor, input_shape, pooling, classes, classifier_activation, **kwargs)\u001b[0m\n\u001b[1;32m    547\u001b[0m       \u001b[0mclasses\u001b[0m\u001b[0;34m=\u001b[0m\u001b[0mclasses\u001b[0m\u001b[0;34m,\u001b[0m\u001b[0;34m\u001b[0m\u001b[0;34m\u001b[0m\u001b[0m\n\u001b[1;32m    548\u001b[0m       \u001b[0mclassifier_activation\u001b[0m\u001b[0;34m=\u001b[0m\u001b[0mclassifier_activation\u001b[0m\u001b[0;34m,\u001b[0m\u001b[0;34m\u001b[0m\u001b[0;34m\u001b[0m\u001b[0m\n\u001b[0;32m--> 549\u001b[0;31m       **kwargs)\n\u001b[0m\u001b[1;32m    550\u001b[0m \u001b[0;34m\u001b[0m\u001b[0m\n\u001b[1;32m    551\u001b[0m \u001b[0;34m\u001b[0m\u001b[0m\n",
            "\u001b[0;32m/usr/local/lib/python3.7/dist-packages/keras/applications/efficientnet.py\u001b[0m in \u001b[0;36mEfficientNet\u001b[0;34m(width_coefficient, depth_coefficient, default_size, dropout_rate, drop_connect_rate, depth_divisor, activation, blocks_args, model_name, include_top, weights, input_tensor, input_shape, pooling, classes, classifier_activation)\u001b[0m\n\u001b[1;32m    276\u001b[0m \u001b[0;34m\u001b[0m\u001b[0m\n\u001b[1;32m    277\u001b[0m   \u001b[0;32mif\u001b[0m \u001b[0;32mnot\u001b[0m \u001b[0;34m(\u001b[0m\u001b[0mweights\u001b[0m \u001b[0;32min\u001b[0m \u001b[0;34m{\u001b[0m\u001b[0;34m'imagenet'\u001b[0m\u001b[0;34m,\u001b[0m \u001b[0;32mNone\u001b[0m\u001b[0;34m}\u001b[0m \u001b[0;32mor\u001b[0m \u001b[0mtf\u001b[0m\u001b[0;34m.\u001b[0m\u001b[0mio\u001b[0m\u001b[0;34m.\u001b[0m\u001b[0mgfile\u001b[0m\u001b[0;34m.\u001b[0m\u001b[0mexists\u001b[0m\u001b[0;34m(\u001b[0m\u001b[0mweights\u001b[0m\u001b[0;34m)\u001b[0m\u001b[0;34m)\u001b[0m\u001b[0;34m:\u001b[0m\u001b[0;34m\u001b[0m\u001b[0;34m\u001b[0m\u001b[0m\n\u001b[0;32m--> 278\u001b[0;31m     raise ValueError('The `weights` argument should be either '\n\u001b[0m\u001b[1;32m    279\u001b[0m                      \u001b[0;34m'`None` (random initialization), `imagenet` '\u001b[0m\u001b[0;34m\u001b[0m\u001b[0;34m\u001b[0m\u001b[0m\n\u001b[1;32m    280\u001b[0m                      \u001b[0;34m'(pre-training on ImageNet), '\u001b[0m\u001b[0;34m\u001b[0m\u001b[0;34m\u001b[0m\u001b[0m\n",
            "\u001b[0;31mValueError\u001b[0m: The `weights` argument should be either `None` (random initialization), `imagenet` (pre-training on ImageNet), or the path to the weights file to be loaded."
          ]
        }
      ]
    },
    {
      "cell_type": "code",
      "source": [
        "#Plot loss and accuracy before finetuning\n",
        "utils.plotAccuracy(\"Accuracy on TVHI before finetuning\", history.history['accuracy'], history.history['val_accuracy'])                   \n",
        "utils.plotLoss(\"Loss on TVHI before finetuning\", history.history['loss'], history.history['val_loss'])"
      ],
      "metadata": {
        "id": "f-7vr8KVa7LE",
        "colab": {
          "base_uri": "https://localhost:8080/",
          "height": 573
        },
        "outputId": "6850b76e-58bb-481d-af07-f69e39104e50"
      },
      "execution_count": 82,
      "outputs": [
        {
          "output_type": "display_data",
          "data": {
            "text/plain": [
              "<Figure size 432x288 with 1 Axes>"
            ],
            "image/png": "[encoded data removed]"
          },
          "metadata": {
            "needs_background": "light"
          }
        },
        {
          "output_type": "display_data",
          "data": {
            "text/plain": [
              "<Figure size 432x288 with 1 Axes>"
            ],
            "image/png": "[encoded data removed]"
          },
          "metadata": {
            "needs_background": "light"
          }
        }
      ]
    }
  ]
}