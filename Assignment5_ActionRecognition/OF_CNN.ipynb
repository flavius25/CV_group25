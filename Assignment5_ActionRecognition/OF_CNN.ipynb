{
  "cells": [
    {
      "cell_type": "code",
      "execution_count": null,
      "metadata": {
        "id": "ug1kwnN-hATp",
        "colab": {
          "base_uri": "https://localhost:8080/"
        },
        "outputId": "31e1c816-15f0-4b8a-9bdd-124e6a750faa"
      },
      "outputs": [
        {
          "output_type": "stream",
          "name": "stdout",
          "text": [
            "\u001b[K     |████████████████████████████████| 57 kB 2.3 MB/s \n",
            "\u001b[K     |████████████████████████████████| 60 kB 8.0 MB/s \n",
            "\u001b[?25hMounted at /content/drive\n"
          ]
        }
      ],
      "source": [
        "!pip install kora -q\n",
        "from kora import drive\n",
        "drive.link_nbs()"
      ]
    },
    {
      "cell_type": "code",
      "execution_count": null,
      "metadata": {
        "id": "HQyH_52mhFxJ",
        "colab": {
          "base_uri": "https://localhost:8080/"
        },
        "outputId": "9bda3e36-dad2-4432-d131-1df48097fe0b"
      },
      "outputs": [
        {
          "output_type": "stream",
          "name": "stdout",
          "text": [
            "importing Jupyter notebook from /nbs/utils.ipynb\n",
            "Drive already mounted at /content/drive; to attempt to forcibly remount, call drive.mount(\"/content/drive\", force_remount=True).\n"
          ]
        }
      ],
      "source": [
        "import utils"
      ]
    },
    {
      "cell_type": "code",
      "execution_count": null,
      "metadata": {
        "id": "etQezN1jgrMV"
      },
      "outputs": [],
      "source": [
        "import tensorflow as tf\n",
        "from sklearn.model_selection import train_test_split\n",
        "from sklearn.metrics import confusion_matrix, ConfusionMatrixDisplay\n",
        "import seaborn as sns\n",
        "import matplotlib.pyplot as plt\n",
        "from matplotlib.pyplot import figure\n",
        "from keras.applications.efficientnet import EfficientNetB0\n",
        "from keras.models import Model, Sequential\n",
        "from keras.layers import TimeDistributed, Input, MaxPooling3D, LSTM, Dense, Conv3D, Conv2D, BatchNormalization, Flatten, Dropout, Convolution2D, Activation, MaxPooling2D, GlobalAveragePooling2D\n",
        "from keras import losses\n",
        "import numpy as np\n",
        "from keras import models"
      ]
    },
    {
      "cell_type": "code",
      "execution_count": null,
      "metadata": {
        "id": "vyS4ZucjkA4t"
      },
      "outputs": [],
      "source": [
        "\"\"\" Global variables\"\"\"\n",
        "NUM_CLASSES = 4\n",
        "EPOCHS = 10\n",
        "INSTACK = 16\n",
        "IMG_SIZE = (224, 224)\n",
        "LEN_TRAIN = 85\n",
        "LEN_TEST = 98\n"
      ]
    },
    {
      "cell_type": "code",
      "execution_count": null,
      "metadata": {
        "colab": {
          "base_uri": "https://localhost:8080/"
        },
        "id": "VYqVhhi_hLh-",
        "outputId": "ce4583c2-5a90-4cb7-d3f5-bfbb5bd76169"
      },
      "outputs": [
        {
          "output_type": "stream",
          "name": "stdout",
          "text": [
            "StopIteration exception: \n",
            "length data_files:  85\n",
            "len data_list :  85\n",
            "StopIteration exception: \n",
            "length data_files:  100\n",
            "len data_list :  98\n",
            "StopIteration exception: \n",
            "length data_files:  15\n",
            "len data_list :  15\n",
            "Success!\n"
          ]
        }
      ],
      "source": [
        "\"\"\" Load train generators \"\"\"\n",
        "\n",
        "train_gen, val_gen, test_gen = utils.loadOFdatagens()"
      ]
    },
    {
      "cell_type": "code",
      "execution_count": null,
      "metadata": {
        "id": "x2UBC871lA4Q"
      },
      "outputs": [],
      "source": [
        "from keras.layers.pooling import GlobalAveragePooling3D\n",
        "def build_OF_model(input_shape= (INSTACK,IMG_SIZE[0],IMG_SIZE[1],3),num_classes=NUM_CLASSES):\n",
        "  \n",
        "    model = Sequential()\n",
        "\n",
        "    model.add(Conv3D(32, kernel_size=3, input_shape=input_shape, padding='same', activation='relu'))\n",
        "    model.add(MaxPooling3D(pool_size=2))\n",
        "    model.add(BatchNormalization(momentum=0.9))\n",
        "\n",
        "    model.add(Conv3D(32, kernel_size=3, padding='same', activation='relu'))  #kernel_regularizer='l1_l2'\n",
        "    model.add(MaxPooling3D(pool_size=2, padding='same'))\n",
        "    model.add(BatchNormalization(momentum=0.9))\n",
        "    \n",
        "    model.add(Dropout(0.2))\n",
        "\n",
        "    model.add(Conv3D(64, kernel_size=3, padding='same', activation='relu')) # kernel_regularizer='l1_l2'\n",
        "    model.add(MaxPooling3D(pool_size=2, padding='same'))\n",
        "    model.add(BatchNormalization(momentum=0.9))\n",
        "\n",
        "    model.add(Conv3D(128, kernel_size=3, padding='same', activation='relu')) # kernel_regularizer='l1_l2'\n",
        "    model.add(MaxPooling3D(pool_size=2, padding='same'))\n",
        "    model.add(BatchNormalization(momentum=0.9))\n",
        "\n",
        "    model.add(Dropout(0.2))\n",
        "\n",
        "    model.add(Conv3D(128, kernel_size=3, padding='same', activation='relu')) # kernel_regularizer='l1_l2'\n",
        "    model.add(BatchNormalization(momentum=0.9))\n",
        "    model.add(MaxPooling3D(pool_size=2, padding='same'))\n",
        "    \n",
        "    model.add(GlobalAveragePooling3D()) #Flatten layer\n",
        "    model.add(Dense(512, activation='relu'))\n",
        "\n",
        "    model.add(Dropout(0.3))\n",
        "    model.add(Dense(num_classes, activation='softmax', name='pred')) #Output layer\n",
        "\n",
        "\n",
        "    model.compile(loss='categorical crossentropy', optimizer='Adam', metrics=['accuracy'])\n",
        "    model.summary()\n",
        "\n",
        "    return model"
      ]
    },
    {
      "cell_type": "code",
      "execution_count": null,
      "metadata": {
        "colab": {
          "base_uri": "https://localhost:8080/"
        },
        "id": "LZbpsPnKo3rW",
        "outputId": "45fd8b81-a9db-49a1-f00f-8051cc2578ed"
      },
      "outputs": [
        {
          "output_type": "stream",
          "name": "stdout",
          "text": [
            "Model: \"sequential\"\n",
            "_________________________________________________________________\n",
            " Layer (type)                Output Shape              Param #   \n",
            "=================================================================\n",
            " conv3d (Conv3D)             (None, 16, 224, 224, 32)  896       \n",
            "                                                                 \n",
            " max_pooling3d (MaxPooling3D  (None, 8, 112, 112, 32)  0         \n",
            " )                                                               \n",
            "                                                                 \n",
            " batch_normalization (BatchN  (None, 8, 112, 112, 32)  128       \n",
            " ormalization)                                                   \n",
            "                                                                 \n",
            " conv3d_1 (Conv3D)           (None, 8, 112, 112, 32)   27680     \n",
            "                                                                 \n",
            " max_pooling3d_1 (MaxPooling  (None, 4, 56, 56, 32)    0         \n",
            " 3D)                                                             \n",
            "                                                                 \n",
            " batch_normalization_1 (Batc  (None, 4, 56, 56, 32)    128       \n",
            " hNormalization)                                                 \n",
            "                                                                 \n",
            " dropout (Dropout)           (None, 4, 56, 56, 32)     0         \n",
            "                                                                 \n",
            " conv3d_2 (Conv3D)           (None, 4, 56, 56, 64)     55360     \n",
            "                                                                 \n",
            " max_pooling3d_2 (MaxPooling  (None, 2, 28, 28, 64)    0         \n",
            " 3D)                                                             \n",
            "                                                                 \n",
            " batch_normalization_2 (Batc  (None, 2, 28, 28, 64)    256       \n",
            " hNormalization)                                                 \n",
            "                                                                 \n",
            " conv3d_3 (Conv3D)           (None, 2, 28, 28, 128)    221312    \n",
            "                                                                 \n",
            " max_pooling3d_3 (MaxPooling  (None, 1, 14, 14, 128)   0         \n",
            " 3D)                                                             \n",
            "                                                                 \n",
            " batch_normalization_3 (Batc  (None, 1, 14, 14, 128)   512       \n",
            " hNormalization)                                                 \n",
            "                                                                 \n",
            " dropout_1 (Dropout)         (None, 1, 14, 14, 128)    0         \n",
            "                                                                 \n",
            " conv3d_4 (Conv3D)           (None, 1, 14, 14, 128)    442496    \n",
            "                                                                 \n",
            " batch_normalization_4 (Batc  (None, 1, 14, 14, 128)   512       \n",
            " hNormalization)                                                 \n",
            "                                                                 \n",
            " max_pooling3d_4 (MaxPooling  (None, 1, 7, 7, 128)     0         \n",
            " 3D)                                                             \n",
            "                                                                 \n",
            " global_average_pooling3d (G  (None, 128)              0         \n",
            " lobalAveragePooling3D)                                          \n",
            "                                                                 \n",
            " dense (Dense)               (None, 512)               66048     \n",
            "                                                                 \n",
            " dropout_2 (Dropout)         (None, 512)               0         \n",
            "                                                                 \n",
            " pred (Dense)                (None, 4)                 2052      \n",
            "                                                                 \n",
            "=================================================================\n",
            "Total params: 817,380\n",
            "Trainable params: 816,612\n",
            "Non-trainable params: 768\n",
            "_________________________________________________________________\n",
            "Epoch 1/10\n",
            "85/85 [==============================] - 1107s 13s/step - loss: 1.0390 - accuracy: 0.5599 - val_loss: 2.0759 - val_accuracy: 0.2085\n",
            "Epoch 2/10\n",
            "85/85 [==============================] - 97s 1s/step - loss: 0.1238 - accuracy: 0.9848 - val_loss: 2.9984 - val_accuracy: 0.2275\n",
            "Epoch 3/10\n",
            "85/85 [==============================] - 97s 1s/step - loss: 0.0068 - accuracy: 1.0000 - val_loss: 3.4183 - val_accuracy: 0.2085\n",
            "Epoch 4/10\n",
            "85/85 [==============================] - 97s 1s/step - loss: 0.0025 - accuracy: 1.0000 - val_loss: 3.5127 - val_accuracy: 0.1912\n",
            "Epoch 5/10\n",
            "85/85 [==============================] - 97s 1s/step - loss: 0.0014 - accuracy: 1.0000 - val_loss: 3.7418 - val_accuracy: 0.1991\n",
            "Epoch 6/10\n",
            "85/85 [==============================] - 97s 1s/step - loss: 9.7259e-04 - accuracy: 1.0000 - val_loss: 3.7320 - val_accuracy: 0.2275\n",
            "Epoch 7/10\n",
            "85/85 [==============================] - 98s 1s/step - loss: 6.5832e-04 - accuracy: 1.0000 - val_loss: 3.8651 - val_accuracy: 0.2085\n",
            "Epoch 8/10\n",
            "85/85 [==============================] - 97s 1s/step - loss: 4.6792e-04 - accuracy: 1.0000 - val_loss: 4.0588 - val_accuracy: 0.1611\n",
            "Epoch 9/10\n",
            "85/85 [==============================] - 97s 1s/step - loss: 3.9132e-04 - accuracy: 1.0000 - val_loss: 4.2461 - val_accuracy: 0.1469\n",
            "Epoch 10/10\n",
            "85/85 [==============================] - 96s 1s/step - loss: 2.9782e-04 - accuracy: 1.0000 - val_loss: 4.0492 - val_accuracy: 0.1896\n"
          ]
        }
      ],
      "source": [
        "\"\"\" Instantiating and compiling model \"\"\"\n",
        "of_model = build_OF_model((INSTACK, IMG_SIZE[0], IMG_SIZE[1], 1), NUM_CLASSES)\n",
        "of_model.compile(optimizer='Adam', loss=\"categorical_crossentropy\", metrics=[\"accuracy\"])\n",
        "of_history = of_model.fit(train_gen,epochs= EPOCHS, steps_per_epoch = LEN_TRAIN, validation_data=val_gen, validation_steps=15 , verbose=1) "
      ]
    },
    {
      "cell_type": "code",
      "source": [
        "\"\"\" Plotting results \"\"\"\n",
        "plotAccuracy(\"Accuracy Optical Flow model w/o kernel regularisation\", of_history.history['accuracy'], of_history.history['val_accuracy'])\n",
        "plotLoss(\"Loss Optical Flow  w/o kernel regularisation\", of_history.history['loss'], of_history.history['val_loss'])"
      ],
      "metadata": {
        "colab": {
          "base_uri": "https://localhost:8080/",
          "height": 573
        },
        "id": "1Ukg8ZV-yXps",
        "outputId": "4802be8e-f0fe-4cc7-c27d-ffb11a66997a"
      },
      "execution_count": null,
      "outputs": [
        {
          "output_type": "display_data",
          "data": {
            "text/plain": [
              "<Figure size 432x288 with 1 Axes>"
            ],
            "image/png": "[encoded data removed]"
          },
          "metadata": {
            "needs_background": "light"
          }
        },
        {
          "output_type": "display_data",
          "data": {
            "text/plain": [
              "<Figure size 432x288 with 1 Axes>"
            ],
            "image/png": "[encoded data removed]"
          },
          "metadata": {
            "needs_background": "light"
          }
        }
      ]
    },
    {
      "cell_type": "code",
      "source": [
        "of_model.save_weights('OF_weights_nokernelreg.h5')\n",
        "of_model.save(\"OF_model_nokernelreg\", save_format = 'tf', include_optimizer=True)"
      ],
      "metadata": {
        "id": "LjWMET1RVRCL"
      },
      "execution_count": null,
      "outputs": []
    },
    {
      "cell_type": "code",
      "source": [
        "# of_model.save_weights('OF_weights.h5')\n",
        "# of_model.save(\"OF_model\", save_format = 'tf', include_optimizer=True)"
      ],
      "metadata": {
        "id": "1gM2jVNQaiiv"
      },
      "execution_count": null,
      "outputs": []
    },
    {
      "cell_type": "code",
      "execution_count": null,
      "metadata": {
        "id": "E6EDefZLHTY8"
      },
      "outputs": [],
      "source": [
        "\"\"\" Plotting results \"\"\"\n",
        "utils.plotAccuracy(\"Accuracy Optical Flow model\", of_history.history['accuracy'], of_history.history['val_accuracy'])\n",
        "utils.plotLoss(\"Loss Optical Flow model\", of_history.history['loss'], of_history.history['val_loss'])"
      ]
    },
    {
      "cell_type": "code",
      "execution_count": null,
      "metadata": {
        "id": "00LsNoOaKJRh"
      },
      "outputs": [],
      "source": [
        "#Zip and download the model\n",
        "!zip -r /content/OF_model.zip /content/OF_model\n",
        "from google.colab import files\n",
        "files.download(\"OF_model.zip\")"
      ]
    },
    {
      "cell_type": "code",
      "execution_count": null,
      "metadata": {
        "id": "PrU39YMNP2tF"
      },
      "outputs": [],
      "source": [
        "# https://medium.com/@anuj_shah/creating-custom-data-generator-for-training-deep-learning-models-part-3-c239297cd5d6\n",
        "# https://medium.com/swlh/building-a-custom-keras-data-generator-to-generate-a-sequence-of-videoframes-for-temporal-analysis-e364e9b70eb"
      ]
    },
    {
      "cell_type": "code",
      "source": [
        "\"\"\" Checking data to see that data generator loads data as expected \"\"\"\n",
        "x, y = next(val_gen)\n",
        "print(\"x shape: \", x.shape)\n",
        "print(\"y shape: \", y.shape)\n",
        "\n",
        "x_0 = x[0]\n",
        "y_0 = y[0]\n",
        "print(\"x_0 shape: \", x_0.shape)\n",
        "print(\"y_0 shape: \", y_0.shape)\n",
        "\n",
        "num_of_images=16\n",
        "fig=plt.figure(figsize=(8,8)) \n",
        "plt.title(f\"one sample with {num_of_images} frames ; activity:{y_0}\")\n",
        "subplot_num = int(np.ceil(np.sqrt(num_of_images)))\n",
        "for i in range(int(num_of_images)):\n",
        "    ax = fig.add_subplot(subplot_num, subplot_num, i+1)\n",
        "    #ax.imshow(output_image[0,:,:,i],interpolation='nearest' ) #to see the first filter\n",
        "    ax.imshow(x_0[i,:,::-1])\n",
        "    plt.xticks([])\n",
        "    plt.yticks([])\n",
        "    plt.tight_layout()\n",
        "plt.show()"
      ],
      "metadata": {
        "id": "slKdh95cNBF2"
      },
      "execution_count": null,
      "outputs": []
    },
    {
      "cell_type": "code",
      "source": [
        "\"\"\" Load trained model and evaluate \"\"\"\n",
        "path_OF_model = \"/content/drive/MyDrive/OF_model\"\n",
        "trained_model = models.load_model(path_OF_model)\n",
        "trained_model.summary()"
      ],
      "metadata": {
        "id": "C3bdiGKrVMDv"
      },
      "execution_count": null,
      "outputs": []
    },
    {
      "cell_type": "code",
      "source": [
        "def get_model_memory_usage(batch_size, model):\n",
        "    import numpy as np\n",
        "    try:\n",
        "        from keras import backend as K\n",
        "    except:\n",
        "        from keras import backend as K\n",
        "\n",
        "    shapes_mem_count = 0\n",
        "    internal_model_mem_count = 0\n",
        "    for l in model.layers:\n",
        "        layer_type = l.__class__.__name__\n",
        "        if layer_type == 'Model':\n",
        "            internal_model_mem_count += get_model_memory_usage(batch_size, l)\n",
        "        single_layer_mem = 1\n",
        "        out_shape = l.output_shape\n",
        "        if type(out_shape) is list:\n",
        "            out_shape = out_shape[0]\n",
        "        for s in out_shape:\n",
        "            if s is None:\n",
        "                continue\n",
        "            single_layer_mem *= s\n",
        "        shapes_mem_count += single_layer_mem\n",
        "\n",
        "    trainable_count = np.sum([K.count_params(p) for p in model.trainable_weights])\n",
        "    non_trainable_count = np.sum([K.count_params(p) for p in model.non_trainable_weights])\n",
        "\n",
        "    number_size = 4.0\n",
        "    if K.floatx() == 'float16':\n",
        "        number_size = 2.0\n",
        "    if K.floatx() == 'float64':\n",
        "        number_size = 8.0\n",
        "\n",
        "    total_memory = number_size * (batch_size * shapes_mem_count + trainable_count + non_trainable_count)\n",
        "    gbytes = np.round(total_memory / (1024.0 ** 3), 3) + internal_model_mem_count\n",
        "    return gbytes"
      ],
      "metadata": {
        "id": "ViiZZylbxhbS"
      },
      "execution_count": null,
      "outputs": []
    },
    {
      "cell_type": "code",
      "source": [
        "get_model_memory_usage(17, trained_model)"
      ],
      "metadata": {
        "id": "uyS6H_WqxiRB"
      },
      "execution_count": null,
      "outputs": []
    },
    {
      "cell_type": "code",
      "source": [
        "# Evaluate the model on the test data using `evaluate`\n",
        "print(\"Evaluate on test data\")\n",
        "results = of_model.evaluate(test_gen, steps=LEN_TEST)\n",
        "print(\"test loss, test acc:\", results)\n"
      ],
      "metadata": {
        "colab": {
          "base_uri": "https://localhost:8080/"
        },
        "id": "tHTjTIjO4Gsz",
        "outputId": "3fe7a07a-d1d7-40e3-953e-662ec33ea20b"
      },
      "execution_count": null,
      "outputs": [
        {
          "output_type": "stream",
          "name": "stdout",
          "text": [
            "Evaluate on test data\n",
            "98/98 [==============================] - 49s 505ms/step - loss: 3.9930 - accuracy: 0.3333\n",
            "test loss, test acc: [3.993021249771118, 0.3333333432674408]\n"
          ]
        }
      ]
    }
  ],
  "metadata": {
    "accelerator": "GPU",
    "colab": {
      "collapsed_sections": [],
      "name": "OF_CNN.ipynb",
      "provenance": []
    },
    "kernelspec": {
      "display_name": "Python 3",
      "name": "python3"
    },
    "language_info": {
      "name": "python"
    }
  },
  "nbformat": 4,
  "nbformat_minor": 0
}